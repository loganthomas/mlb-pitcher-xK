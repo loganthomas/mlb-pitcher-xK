{
 "cells": [
  {
   "cell_type": "code",
   "execution_count": 92,
   "id": "81dd0130-f437-4d5a-ae38-4a566d2218e7",
   "metadata": {},
   "outputs": [],
   "source": [
    "import pandas as pd"
   ]
  },
  {
   "cell_type": "code",
   "execution_count": 93,
   "id": "8faa1a72-8049-4291-9c2d-4cd760bf5116",
   "metadata": {},
   "outputs": [],
   "source": [
    "provided_data = pd.read_csv(\"../data/k.csv\")"
   ]
  },
  {
   "cell_type": "code",
   "execution_count": 94,
   "id": "ac8f52f7-72f4-44b4-8433-39f467ea2ee9",
   "metadata": {},
   "outputs": [],
   "source": [
    "suppl_data = pd.read_csv(\"../data/supplemental-stats.csv\")"
   ]
  },
  {
   "cell_type": "markdown",
   "id": "5efa2ef6-7c56-491f-9f78-46d64eeeb315",
   "metadata": {},
   "source": [
    "# Ensure naming conventions\n",
    "Probably a better way to do this with pattern matching and fuzzy searching, but only a few so did it manually."
   ]
  },
  {
   "cell_type": "code",
   "execution_count": 95,
   "id": "77b1b97a-f6d1-4219-921c-431e1dd4d110",
   "metadata": {},
   "outputs": [],
   "source": [
    "suppl_data.Name = suppl_data.Name.replace(\n",
    "    {\n",
    "        \"Manny Banuelos\": \"Manny Bañuelos\",\n",
    "        \"Ralph Garza\": \"Ralph Garza Jr.\",\n",
    "        \"Luis Ortiz\": \"Luis L. Ortiz\",\n",
    "        \"Jose Hernandez\": \"Jose E. Hernandez\",\n",
    "        \"Hyeon-jong Yang\": \"Hyeon-Jong Yang\",\n",
    "        \"Adrián Martinez\": \"Adrián Martínez\",\n",
    "    }\n",
    ")\n",
    "\n",
    "\n",
    "provided_data.Name = provided_data.Name.replace(\n",
    "    {\n",
    "        \"Eduardo Rodriguez\": \"Eduardo Rodríguez\",\n",
    "        \"Jose Alvarez\": \"José Álvarez\",\n",
    "        \"Sandy Alcantara\": \"Sandy Alcántara\",\n",
    "        \"Carlos Martinez\": \"Carlos Martínez\",\n",
    "        \"Phillips Valdez\": \"Phillips Valdéz\",\n",
    "        \"Jovani Moran\": \"Jovani Morán\",\n",
    "        \"Jose Cuas\": \"José Cuas\",\n",
    "        \"Jorge Alcala\": \"Jorge Alcalá\",\n",
    "        \"Jhoan Duran\": \"Jhoan Durán\",\n",
    "        \"Jesus Tinoco\": \"Jesús Tinoco\",\n",
    "        \"Brent Honeywell\": \"Brent Honeywell Jr.\",\n",
    "        \"Adrian Morejon\": \"Adrián Morejón\",\n",
    "    }\n",
    ")"
   ]
  },
  {
   "cell_type": "code",
   "execution_count": 96,
   "id": "49565ee9-ef83-48f4-a303-73f75dd60326",
   "metadata": {},
   "outputs": [],
   "source": [
    "def compare_datasets(provided_df, supplemental_df):\n",
    "    \"\"\" \"\"\"\n",
    "    provided = set(provided_df.Name)\n",
    "    suppl = set(supplemental_df.Name)\n",
    "\n",
    "    # Only care about what is in provided as that's what is used in prediction exercise.\n",
    "    diffs = provided - suppl\n",
    "    return diffs\n",
    "\n",
    "\n",
    "def lookup_player(dataframe, name, source=\"provided\", show_data=False):\n",
    "    mask = (\n",
    "        dataframe.Name.str.startswith(name)\n",
    "        if source == \"supplemental\"\n",
    "        else dataframe.Name == name\n",
    "    )\n",
    "    if show_data:\n",
    "        print(dataframe[mask])\n",
    "    return dataframe.loc[mask, \"Name\"].unique().tolist()"
   ]
  },
  {
   "cell_type": "code",
   "execution_count": 97,
   "id": "ff0296e3-d73c-4847-bd5d-e00694d73d87",
   "metadata": {},
   "outputs": [
    {
     "data": {
      "text/plain": [
       "set()"
      ]
     },
     "execution_count": 97,
     "metadata": {},
     "output_type": "execute_result"
    }
   ],
   "source": [
    "compare_datasets(provided_data, suppl_data)"
   ]
  },
  {
   "cell_type": "code",
   "execution_count": 98,
   "id": "fb159080-c8d1-4839-91a9-970c22e2eec3",
   "metadata": {},
   "outputs": [
    {
     "name": "stdout",
     "output_type": "stream",
     "text": [
      "Empty DataFrame\n",
      "Columns: [MLBAMID, PlayerId, Name, Team, Age, Season, TBF, K%]\n",
      "Index: []\n"
     ]
    },
    {
     "data": {
      "text/plain": [
       "[]"
      ]
     },
     "execution_count": 98,
     "metadata": {},
     "output_type": "execute_result"
    }
   ],
   "source": [
    "lookup_player(provided_data, \"Jhoan Duran\", source=\"provided\", show_data=True)"
   ]
  },
  {
   "cell_type": "code",
   "execution_count": 99,
   "id": "76ea032e-40ec-4c97-a306-a341048b0668",
   "metadata": {},
   "outputs": [
    {
     "name": "stdout",
     "output_type": "stream",
     "text": [
      "       Rk             Name  Age   Tm    IP   PA   Pit  Pit/PA  Str   Str%  \\\n",
      "707   708   Adrián Morejón   22  SDP   4.2   20    80    4.00   51  0.638   \n",
      "1750  592  Adrián Martínez   25  OAK  57.2  260  1015    3.90  647  0.637   \n",
      "1826  668   Adrián Morejón   23  SDP  34.0  141   540    3.83  358  0.663   \n",
      "2836  597  Adrián Martínez   26  OAK  55.0  242   943    3.90  570  0.604   \n",
      "2908  669   Adrián Morejón   24  SDP   9.0   44   161    3.66   98  0.609   \n",
      "3993  690   Adrián Morejón   25  SDP  63.2  272  1064    3.91  714  0.671   \n",
      "\n",
      "      ... 02h  L/SO  S/SO  L/SO%  3pK  4pW  PAu  Pitu  Stru  Season  \n",
      "707   ...   0     0     3  0.000    0    1    0     0     0    2021  \n",
      "1750  ...   4    14    39  0.264    9    2    0     0     0    2022  \n",
      "1826  ...   2     3    23  0.107    5    2    0     0     0    2022  \n",
      "2836  ...   2    15    32  0.319    6    2    0     0     0    2023  \n",
      "2908  ...   0     5     3  0.625    0    0    0     0     0    2023  \n",
      "3993  ...   5    18    53  0.254    9    3    0     0     0    2024  \n",
      "\n",
      "[6 rows x 35 columns]\n"
     ]
    },
    {
     "data": {
      "text/plain": [
       "['Adrián Morejón', 'Adrián Martínez']"
      ]
     },
     "execution_count": 99,
     "metadata": {},
     "output_type": "execute_result"
    }
   ],
   "source": [
    "lookup_player(suppl_data, \"Adrián\", source=\"supplemental\", show_data=True)"
   ]
  },
  {
   "cell_type": "code",
   "execution_count": null,
   "id": "d6a67056-45c6-4196-befb-c3f36804586a",
   "metadata": {},
   "outputs": [],
   "source": []
  }
 ],
 "metadata": {
  "kernelspec": {
   "display_name": "Python 3 (ipykernel)",
   "language": "python",
   "name": "python3"
  },
  "language_info": {
   "codemirror_mode": {
    "name": "ipython",
    "version": 3
   },
   "file_extension": ".py",
   "mimetype": "text/x-python",
   "name": "python",
   "nbconvert_exporter": "python",
   "pygments_lexer": "ipython3",
   "version": "3.11.9"
  }
 },
 "nbformat": 4,
 "nbformat_minor": 5
}
